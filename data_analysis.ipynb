{
 "cells": [
  {
   "cell_type": "markdown",
   "metadata": {},
   "source": [
    "Notebook para analisar os dados da base Bolsa Família"
   ]
  },
  {
   "cell_type": "code",
   "execution_count": 2,
   "metadata": {},
   "outputs": [],
   "source": [
    "# Importando a sessão do Spark que se comunica com o cluster\n",
    "from pyspark.sql import SparkSession"
   ]
  },
  {
   "cell_type": "code",
   "execution_count": 3,
   "metadata": {},
   "outputs": [],
   "source": [
    "#Instanciando a sessão spark\n",
    "spark = SparkSession.builder.appName(\"Bolsa Familia\").getOrCreate()"
   ]
  },
  {
   "cell_type": "code",
   "execution_count": 13,
   "metadata": {},
   "outputs": [],
   "source": [
    "caminho = \"./data/202401_NovoBolsaFamilia.csv\"\n",
    "\n",
    "df = spark.read.csv(caminho, \n",
    "                    header=True,\n",
    "                    sep=';',\n",
    "                    encoding='ISO-8859-1')"
   ]
  },
  {
   "cell_type": "code",
   "execution_count": 14,
   "metadata": {},
   "outputs": [
    {
     "name": "stdout",
     "output_type": "stream",
     "text": [
      "+---------------+--------------+---+----------------------+--------------------+--------------+--------------+--------------------+-------------+\n",
      "|MÊS COMPETÊNCIA|MÊS REFERÊNCIA| UF|CÓDIGO MUNICÍPIO SIAFI|      NOME MUNICÍPIO|CPF FAVORECIDO|NIS FAVORECIDO|     NOME FAVORECIDO|VALOR PARCELA|\n",
      "+---------------+--------------+---+----------------------+--------------------+--------------+--------------+--------------------+-------------+\n",
      "|         202401|        202303| AC|                  0139|          RIO BRANCO|***.511.972-**|   16291115205|JANAINA FERREIRA ...|       800,00|\n",
      "|         202401|        202303| BA|                  3329|             ANGUERA|***.909.745-**|   20474429886|TACIANE MARQUES D...|       750,00|\n",
      "|         202401|        202303| BA|                  3731|         MONTE SANTO|***.872.338-**|   20195376298|MAILSON DOS SANTO...|       650,00|\n",
      "|         202401|        202303| BA|                  3761|         NOVA VICOSA|***.665.905-**|   12723589082|IRENI RICARDO GER...|       650,00|\n",
      "|         202401|        202303| BA|                  3849|            SALVADOR|***.932.435-**|   20024584007|ELIENE GOMES DOS ...|       850,00|\n",
      "|         202401|        202303| BA|                  3849|            SALVADOR|***.081.685-**|   12901985051|RITA DE CASSIA SI...|       750,00|\n",
      "|         202401|        202303| GO|                  9625|            TRINDADE|***.663.991-**|   20094495151|POLIANA GUEDES DE...|      1060,00|\n",
      "|         202401|        202303| MA|                  0731|      BARRA DO CORDA|***.901.823-**|   20176081253|ANDREIA MACHADO D...|       800,00|\n",
      "|         202401|        202303| MG|                  4133|               BETIM|***.952.266-**|   16012141506|DJESSICA ADRIAN S...|       800,00|\n",
      "|         202401|        202303| MG|                  4701|             JANAUBA|***.968.426-**|   16598251037|RUTH DANIELE SANT...|       900,00|\n",
      "|         202401|        202303| MG|                  5401|             UBERABA|***.088.556-**|   16259208988|IVANI DE BRITO CUNHA|       700,00|\n",
      "|         202401|        202303| MS|                  9073|            DOURADOS|***.369.631-**|   16144249991|DAILA OLIVEIRA DA...|       750,00|\n",
      "|         202401|        202303| MS|                  9115|             NIOAQUE|***.317.608-**|   20445946517|SANDRA REGINA BOR...|       600,00|\n",
      "|         202401|        202303| MT|                  9067|              CUIABA|***.714.851-**|   13364609402|JOSIANE ALCANTARA...|       750,00|\n",
      "|         202401|        202303| PA|                  0427|               BELEM|***.123.972-**|   16168719238|ADRIANE FERREIRA ...|       750,00|\n",
      "|         202401|        202303| PB|                  1999|CRUZ DO ESPIRITO ...|***.253.234-**|   20146832994|CRISTINA DE ARAUJ...|       800,00|\n",
      "|         202401|        202303| PB|                  2051|         JOAO PESSOA|***.155.514-**|   20117607651|MARIA JOSE FIDELI...|       600,00|\n",
      "|         202401|        202303| PE|                  2631|        ABREU E LIMA|***.984.764-**|   23638513250|ANA ILZA ALVES DO...|       800,00|\n",
      "|         202401|        202303| PE|                  2627|VITORIA DE SANTO ...|***.289.264-**|   16245332533|GIOVANA SANTOS DO...|       300,00|\n",
      "|         202401|        202303| PR|                  7731|            PAICANDU|***.103.879-**|   12961009512|JOSILAINE CRISTIN...|       650,00|\n",
      "+---------------+--------------+---+----------------------+--------------------+--------------+--------------+--------------------+-------------+\n",
      "only showing top 20 rows\n",
      "\n"
     ]
    }
   ],
   "source": [
    "df.show()"
   ]
  },
  {
   "cell_type": "code",
   "execution_count": 15,
   "metadata": {},
   "outputs": [
    {
     "name": "stdout",
     "output_type": "stream",
     "text": [
      "root\n",
      " |-- MÊS COMPETÊNCIA: string (nullable = true)\n",
      " |-- MÊS REFERÊNCIA: string (nullable = true)\n",
      " |-- UF: string (nullable = true)\n",
      " |-- CÓDIGO MUNICÍPIO SIAFI: string (nullable = true)\n",
      " |-- NOME MUNICÍPIO: string (nullable = true)\n",
      " |-- CPF FAVORECIDO: string (nullable = true)\n",
      " |-- NIS FAVORECIDO: string (nullable = true)\n",
      " |-- NOME FAVORECIDO: string (nullable = true)\n",
      " |-- VALOR PARCELA: string (nullable = true)\n",
      "\n"
     ]
    }
   ],
   "source": [
    "df.printSchema()"
   ]
  }
 ],
 "metadata": {
  "kernelspec": {
   "display_name": "bolsa_familia",
   "language": "python",
   "name": "python3"
  },
  "language_info": {
   "codemirror_mode": {
    "name": "ipython",
    "version": 3
   },
   "file_extension": ".py",
   "mimetype": "text/x-python",
   "name": "python",
   "nbconvert_exporter": "python",
   "pygments_lexer": "ipython3",
   "version": "3.8.19"
  }
 },
 "nbformat": 4,
 "nbformat_minor": 2
}
